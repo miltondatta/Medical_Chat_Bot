{
 "cells": [
  {
   "cell_type": "code",
   "execution_count": 1,
   "metadata": {},
   "outputs": [],
   "source": [
    "from langchain_groq import ChatGroq\n",
    "import os\n",
    "#from langchain import PromptTemplate\n",
    "from langchain.chains import RetrievalQA\n",
    "from langchain.embeddings import HuggingFaceBgeEmbeddings\n",
    "#from langchain.vectorstores import Pinecone as PCN\n",
    "from langchain.document_loaders import PyPDFLoader,DirectoryLoader\n",
    "from langchain.text_splitter import RecursiveCharacterTextSplitter\n",
    "from langchain.prompts import PromptTemplate\n",
    "from langchain import HuggingFaceHub\n",
    "#from sentence_transformers import SentenceTransformer\n",
    "#from huggingface_hub import HuggingFaceHub\n",
    "from langchain.llms import CTransformers"
   ]
  },
  {
   "cell_type": "code",
   "execution_count": 2,
   "metadata": {},
   "outputs": [],
   "source": [
    "GROG_API_KEY = os.environ.get(\"GROG_API_KEY\")\n",
    "PINECONE_KEY = os.environ.get(\"PINECONE_KEY\")\n",
    "HUGGINGFACEHUB_API_TOKEN = os.environ.get(\"HUGGINGFACEHUB_API_TOKEN\")"
   ]
  },
  {
   "cell_type": "code",
   "execution_count": 3,
   "metadata": {},
   "outputs": [
    {
     "data": {
      "text/plain": [
       "'pcsk_dH9R3_PNhMeN3NWVGZ3GoN3XWrASbMdMLctr4qtwFGN37QzYoUAnCygmb6d6FoeXq3huP'"
      ]
     },
     "execution_count": 3,
     "metadata": {},
     "output_type": "execute_result"
    }
   ],
   "source": [
    "PINECONE_KEY"
   ]
  },
  {
   "cell_type": "code",
   "execution_count": 3,
   "metadata": {},
   "outputs": [],
   "source": [
    "llm = ChatGroq(\n",
    "    model=\"llama-3.1-70b-versatile\",\n",
    "    temperature=0.5,\n",
    "    api_key=GROG_API_KEY,\n",
    "    max_tokens=4096,\n",
    "    max_retries=2\n",
    ")"
   ]
  },
  {
   "cell_type": "code",
   "execution_count": null,
   "metadata": {},
   "outputs": [],
   "source": [
    "# Extract the PDF\n",
    "#def document_loader(data):\n",
    "    #loader = DirectoryLoader(data,\n",
    "                    #glob=\"*.pdf\",\n",
    "                    #loader_cls=PyPDFLoader)\n",
    "    #documents = loader.load()\n",
    "    #return documents"
   ]
  },
  {
   "cell_type": "code",
   "execution_count": null,
   "metadata": {},
   "outputs": [],
   "source": [
    "#extracted_data = document_loader(\"../data/\")"
   ]
  },
  {
   "cell_type": "code",
   "execution_count": null,
   "metadata": {},
   "outputs": [],
   "source": [
    "# Create or split text chunks\n",
    "# def text_split(extracted_data):\n",
    "#     text_splitter = RecursiveCharacterTextSplitter(chunk_size = 500,\n",
    "#                                    chunk_overlap = 20)\n",
    "#     text_chunks = text_splitter.split_documents(extracted_data)\n",
    "#     return text_chunks"
   ]
  },
  {
   "cell_type": "code",
   "execution_count": null,
   "metadata": {},
   "outputs": [],
   "source": [
    "# text_chunks = text_split(extracted_data=extracted_data)"
   ]
  },
  {
   "cell_type": "code",
   "execution_count": null,
   "metadata": {},
   "outputs": [],
   "source": [
    "#text_chunks"
   ]
  },
  {
   "cell_type": "code",
   "execution_count": 4,
   "metadata": {},
   "outputs": [],
   "source": [
    "# Download Embedding Model\n",
    "#local_model_path = \"../model/\"\n",
    "def download_hugging_face_embeddings(modelname):\n",
    "    embeddings = HuggingFaceBgeEmbeddings(model_name=modelname,)\n",
    "    return embeddings"
   ]
  },
  {
   "cell_type": "code",
   "execution_count": 5,
   "metadata": {},
   "outputs": [
    {
     "name": "stderr",
     "output_type": "stream",
     "text": [
      "d:\\LLMProject\\Medical_Chat_Bot\\mbot\\Lib\\site-packages\\tqdm\\auto.py:21: TqdmWarning: IProgress not found. Please update jupyter and ipywidgets. See https://ipywidgets.readthedocs.io/en/stable/user_install.html\n",
      "  from .autonotebook import tqdm as notebook_tqdm\n"
     ]
    }
   ],
   "source": [
    "embeddings = download_hugging_face_embeddings(\"sentence-transformers/all-MiniLM-L6-v2\")"
   ]
  },
  {
   "cell_type": "code",
   "execution_count": null,
   "metadata": {},
   "outputs": [
    {
     "name": "stdout",
     "output_type": "stream",
     "text": [
      "Length : 384\n"
     ]
    }
   ],
   "source": [
    "# query_result = embeddings.embed_query(\"Hello World\")\n",
    "# print(f\"Length : {len(query_result)}\")"
   ]
  },
  {
   "cell_type": "code",
   "execution_count": null,
   "metadata": {},
   "outputs": [],
   "source": [
    "#from pinecone import Pinecone\n",
    "#pc = Pinecone(api_key=PINECONE_KEY)\n",
    "#pc_index = pc.Index(\"medical-chatbot\")"
   ]
  },
  {
   "cell_type": "code",
   "execution_count": null,
   "metadata": {},
   "outputs": [],
   "source": [
    "#docsearch = Pinecone.from_texts([t.page_content for t in text_chunks],embedding=embeddings,index_name=pc_index)\n",
    "#for i, t in zip(range(len(text_chunks)), text_chunks):\n",
    "   #query_result = embeddings.embed_query(t.page_content)\n",
    "   #pc_index.upsert(\n",
    "   #vectors=[\n",
    "        #{\n",
    "            #\"id\": str(i),  # Convert i to a string\n",
    "            #\"values\": query_result, \n",
    "            #\"metadata\": {\"text\":str(text_chunks[i].page_content)} # meta data as dic\n",
    "        #}\n",
    "    #],\n",
    "    #namespace=\"real\"\n",
    "#)"
   ]
  },
  {
   "cell_type": "code",
   "execution_count": 6,
   "metadata": {},
   "outputs": [],
   "source": [
    "from langchain_community.document_loaders import PyPDFLoader\n",
    "from langchain_text_splitters import CharacterTextSplitter\n",
    "loader = PyPDFLoader(\"../data/Medical_book.pdf\")\n",
    "documents = loader.load()\n",
    "text_splitter = CharacterTextSplitter(chunk_size=500, chunk_overlap=20)\n",
    "docs = text_splitter.split_documents(documents)"
   ]
  },
  {
   "cell_type": "code",
   "execution_count": null,
   "metadata": {},
   "outputs": [],
   "source": [
    "#from langchain_community.document_loaders import TextLoader\n",
    "#txt_loader = TextLoader(\"../data/payment_text.txt\")\n",
    "#txt_documents = txt_loader.load()\n",
    "\n",
    "#txt_splitter = CharacterTextSplitter(chunk_size=1000, chunk_overlap=0)\n",
    "#text_docs = txt_splitter.split_documents(txt_documents)"
   ]
  },
  {
   "cell_type": "code",
   "execution_count": null,
   "metadata": {},
   "outputs": [],
   "source": [
    "#text_docs"
   ]
  },
  {
   "cell_type": "code",
   "execution_count": null,
   "metadata": {},
   "outputs": [],
   "source": [
    "#from langchain_pinecone import PineconeVectorStore\n",
    "\n",
    "#os.environ['PINECONE_API_KEY'] = PINECONE_KEY\n",
    "\n",
    "# index_name = \"medical-chatbot\"\n",
    "\n",
    "# vectorstore = PineconeVectorStore(index_name=index_name, embedding=embeddings)"
   ]
  },
  {
   "cell_type": "code",
   "execution_count": null,
   "metadata": {},
   "outputs": [],
   "source": [
    "# index_obj = vectorstore.get_pinecone_index(index_name)\n",
    "# index_obj"
   ]
  },
  {
   "cell_type": "code",
   "execution_count": null,
   "metadata": {},
   "outputs": [],
   "source": [
    "# vectorstore_from_docs = vectorstore.from_documents(\n",
    "#     docs,\n",
    "#     index_name=index_name,\n",
    "#     embedding=embeddings\n",
    "# )\n",
    "# vectorstore_from_docs"
   ]
  },
  {
   "cell_type": "code",
   "execution_count": null,
   "metadata": {},
   "outputs": [],
   "source": [
    "## Delete record from Pincecone\n",
    "#from pinecone import Pinecone\n",
    "#pc = Pinecone(api_key=PINECONE_KEY)\n",
    "#index = pc.Index(host='https://medical-chatbot-a0ji3yb.svc.aped-4627-b74a.pinecone.io')\n",
    "#index.delete(delete_all=True,namespace='default')"
   ]
  },
  {
   "cell_type": "code",
   "execution_count": null,
   "metadata": {},
   "outputs": [],
   "source": []
  },
  {
   "cell_type": "code",
   "execution_count": 7,
   "metadata": {},
   "outputs": [],
   "source": [
    "import chromadb"
   ]
  },
  {
   "cell_type": "code",
   "execution_count": 8,
   "metadata": {},
   "outputs": [],
   "source": [
    "client = chromadb.PersistentClient('../chromadb/medicalstore')\n",
    "collection = client.get_or_create_collection(\"medicalbook\")"
   ]
  },
  {
   "cell_type": "code",
   "execution_count": null,
   "metadata": {},
   "outputs": [
    {
     "name": "stdout",
     "output_type": "stream",
     "text": [
      "[Document(id='74b79ad3-433b-4030-9c04-0ca6f46bfc44', metadata={'page': 128.0, 'source': '../data/Medical_book.pdf'}, page_content='Description\\nAllergies are among the most common of medical\\ndisorders. It is estimated that 60 million Americans, or\\nmore than one in every five people, suffer from some\\nform of allergy, with similar proportions throughout\\nmuch of the rest of the world. Allergy is the single largest\\nreason for school absence and is a major source of lost\\nproductivity in the workplace.\\nAn allergy is a type of immune reaction. Normally,\\nthe immune system responds to foreign microorganisms\\nor particles by producing specific proteins called anti-\\nbodies. These antibodies are capable of binding to iden-\\ntifying molecules, or antigens, on the foreign particle.\\nThis reaction between antibody and antigen sets off a\\nseries of chemical reactions designed to protect the\\nbody from infection. Sometimes, this same series of\\nreactions is triggered by harmless, everyday substances\\nsuch as pollen, dust, and animal danders. When this\\noccurs, an allergy develops against the offending sub-\\nstance (an allergen.)\\nMast cells, one of the major players in allergic reac-\\ntions, capture and display a particular type of antibody,\\ncalled immunoglobulin type E (IgE) that binds to aller-\\ngens. Inside mast cells are small chemical-filled packets\\ncalled granules. Granules contain a variety of potent\\nchemicals, including histamine.\\nImmunologists separate allergic reactions into two\\nmain types: immediate hypersensitivity reactions, which\\nare predominantly mast cell-mediated and occur within\\nminutes of contact with allergen; and delayed hypersen-\\nsitivity reactions, mediated by T cells (a type of white\\nblood cells) and occurring hours to days after exposure.\\nInhaled or ingested allergens usually cause immedi-\\nate hypersensitivity reactions. Allergens bind to IgE anti-\\nbodies on the surface of mast cells, which spill the con-\\ntents of their granules out onto neighboring cells, includ-\\ning blood vessels and nerve cells. Histamine binds to the\\nsurfaces of these other cells through special proteins\\ncalled histamine receptors. Interaction of histamine with\\nreceptors on blood vessels causes increased leakiness,\\nleading to the fluid collection, swelling and increased\\nredness. Histamine also stimulates pain receptors, mak-\\ning tissue more sensitive and irritable. Symptoms last\\nfrom one to several hours following contact.\\nIn the upper airways and eyes, immediate hypersen-\\nsitivity reactions cause the runny nose and itchy, blood-\\nshot eyes typical of allergic rhinitis. In the gastrointesti-\\nnal tract, these reactions lead to swelling and irritation of\\nthe intestinal lining, which causes the cramping and\\ndiarrheatypical of food allergy. Allergens that enter the\\ncirculation may cause hives, angioedema, anaphylaxis,\\nor atopic dermatitis.\\nAllergens on the skin usually cause delayed hyper-\\nsensitivity reaction. Roving T cells contact the allergen,\\nsetting in motion a more prolonged immune response.\\nThis type of allergic response may develop over several\\ndays following contact with the allergen, and symptoms\\nmay persist for a week or more.\\nCauses and symptoms\\nAllergens enter the body through four main routes:\\nthe airways, the skin, the gastrointestinal tract, and the\\ncirculatory system.\\n• Airborne allergens cause the sneezing, runny nose,\\nand itchy, bloodshot eyes of hay fever (allergic rhini-\\ntis). Airborne allergens can also affect the lining of the\\nlungs, causing asthma, or the conjunctiva of the eyes,\\ncausing conjunctivitis (pink eye). Exposure to cock-\\nroach allergans have been associated with the devel-\\nopment of asthma. Airborne allergans from household\\npets are another common source of environmental\\nexposure.\\n• Allergens in food can cause itching and swelling of the\\nlips and throat, cramps, and diarrhea. When absorbed\\ninto the bloodstream, they may cause hives (urticaria)\\nor more severe reactions involving recurrent, non-\\ninflammatory swelling of the skin, mucous membranes,\\norgans, and brain (angioedema). Some food allergens\\nmay cause anaphylaxis,a potentially life-threatening\\ncondition marked by tissue swelling, airwayconstric-\\ntion, and drop in blood pressure. Allergies to foods such\\ncow’s milk, eggs, nuts, fish, and legumes (peanuts and\\nsoybeans) are common. Allergies to fruits and vegeta-\\nbles may also occur.\\n• In contact with the skin, allergens can cause redden-\\ning, itching, and blistering, called contact dermatitis .\\nSkin reactions can also occur from allergens intro-\\nduced through the airways or gastrointestinal tract.\\nThis type of reaction is known as atopic dermatitis .\\nDermatitis may arise from an allergic response (such\\nas from poison ivy), or exposure to an irritant causing\\nnonimmune damage to skin cells (such as soap, cold,\\nand chemical agents).\\n• Injection of allergens, from insect bites and stings or\\ndrug administration, can introduce allergens directly\\ninto the circulation, where they may cause system-wide\\nresponses (including anaphylaxis), as well as the local\\nones of swelling and irritation at the injection site.\\nPeople with allergies are not equally sensitive to\\nall allergens. Some may have severe allergic rhinitis\\nbut no food allergies, for instance, or be extremely sen-\\nGALE ENCYCLOPEDIA OF MEDICINE 2 115\\nAllergies\\nGEM - 0001 to 0432 - A  10/22/03 1:42 PM  Page 115'), Document(id='b51b8d2f-1479-46f0-8b43-e14ecd7de475', metadata={'page': 137.0, 'source': '../data/Medical_book.pdf'}, page_content='KEY TERMS\\nAllergen —A substance that provokes an allergic\\nresponse.\\nAnaphylaxis—Increased sensitivity caused by pre-\\nvious exposure to an allergen that can result in\\nblood vessel dilation (swelling) and smooth mus-\\ncle contraction. Anaphylaxis can result in sharp\\nblood pressure drops and difficulty breathing.\\nAntibody —A specific protein produced by the\\nimmune system in response to a specific foreign\\nprotein or particle called an antigen.\\nAntigen —A foreign protein to which the body\\nreacts by making antibodies.\\nHistamine —A chemical released by mast cells\\nthat activates pain receptors and causes cells to\\nbecome leaky.\\nMast cells —A type of immune system cell that is\\nfound in the lining of the nasal passages and eye-\\nlids, displays a type of antibody called immuno-\\nglobulin type E (IgE) on its cell surface, and partici-\\npates in the allergic response by releasing hista-\\nmine from intracellular granules.\\nies will bind to the solid medium and remain behind after\\na rinse. Location of allergen-antibody combinations is\\ndone by adding antibody-reactive antibodies, so called\\nanti-antibodies, that are chemically linked with a\\nradioactive dye. By locating radioactive spots on the\\nsolid medium, the reactive allergens are discovered.\\nProvocation testing may be performed to identify air-\\nborne or food allergens. Inhalation testing is performed\\nonly after a patient’s lung capacity and response to the\\nmedium used to dilute the allergen has been determined.\\nOnce this has been determined, the patient inhales increas-\\ningly concentrated samples of a particular allergen, fol-\\nlowed each time by measurement of the exhalation capaci-\\nty. Only one allergen is tested per day. Testing for food\\nallergiesis usually done by removing the suspect food\\nfrom the diet for two weeks, followed by eating a single\\nportion of the suspect food and follow-up monitoring.\\nPreparation\\nSkin testing is preceded by a brief examination of\\nthe skin. The patient should refrain from using anti-aller-\\ngy drugs for at least 48 hours before testing. Prior to\\ninhalation testing, patients with asthma who can tolerate\\nit may be asked to stop any asthma medications. Testing\\nfor food allergies requires the person to avoid all suspect\\nfood for at least two weeks before testing.\\nAftercare\\nSkin testing does not usually require any aftercare. A\\ngeneralized redness and swelling may occur in the test\\narea, but it will usually resolve within a day or two.\\nInhalation tests may cause delayed asthma attacks,\\neven if the antigen administered in the test initially pro-\\nduced no response. Severe initial reactions may justify\\nclose professional observation for at least 12 hours after\\ntesting.\\nRisks\\nIntradermal testing may inadvertently result in the\\ninjection of the allergen into the circulation, with an\\nincreased risk of adverse reactions. Inhalation tests may\\nprovoke an asthma attack. Exposure to new or unsuspect-\\ned allergens in any test carries the risk of anaphylaxis.\\nBecause patients are monitored following allergy testing,\\nan anaphylactic reaction is usually recognized and treat-\\ned promptly. Occasionally, a delayed anaphylactic\\nresponse can occur that will require immediate care.\\nProper patient education regarding how to recognize ana-\\nphylaxis is vital.\\nNormal results\\nLack of redness or swelling on a skin test indicates\\nno allergic response. In an inhalation test, the exhalation\\ncapacity should remain unchanged. In a food challenge,\\nno symptoms should occur.\\nAbnormal results\\nPresence of redness or swelling, especially over 5\\nmm (1/4 inch) in diameter, indicates an allergic response.\\nGALE ENCYCLOPEDIA OF MEDICINE 2124\\nAllergy tests\\nA close-up of a patient’s arm after allergy testing.(Custom\\nMedical Stock Photo. Reproduced by permission.)\\nGEM - 0001 to 0432 - A  10/22/03 1:42 PM  Page 124'), Document(id='2c62af09-587e-4b87-a95e-fe3626d3e262', metadata={'page': 129.0, 'source': '../data/Medical_book.pdf'}, page_content='sitive to nuts but not to any other food. Allergies may\\nget worse over time. For example, childhood ragweed\\nallergy may progress to year-round dust and pollen\\nallergy. On the other hand, a person may lose allergic\\nsensitivity. Infant or childhood atopic dermatitis disap-\\npears in almost all people. More commonly, what\\nseems to be loss of sensitivity is instead a reduced\\nexposure to allergens or an increased tolerance for the\\nsame level of symptoms.\\nWhile allergy to specific allergens is not inherited,\\nthe likelihood of developing some type of allergy seems\\nto be, at least for many people. If neither parent has\\nallergies, the chances of a child developing allergy is\\napproximately 10-20%; if one parent has allergies, it is\\n30-50%; and if both have allergies, it is 40-75%.One\\nsource of this genetic predisposition is in the ability to\\nproduce higher levels of IgE in response to allergens.\\nThose who produce more IgE will develop a stronger\\nallergic sensitivity.\\nCOMMON ALLERGENS. The most common airborne\\nallergens are the following:\\n• plant pollens\\n• animal fur and dander\\n• body parts from house mites (microscopic creatures\\nfound in all houses)\\n• house dust\\n• mold spores\\n• cigarette smoke\\n• solvents\\n• cleaners\\nCommon food allergens include the following:\\n• nuts, especially peanuts, walnuts, and brazil nuts\\n• fish, mollusks, and shellfish\\n• eggs\\n• wheat\\n• milk\\n• food additives and preservatives\\nThe following types of drugs commonly cause aller-\\ngic reactions:\\n• penicillin or other antibiotics\\n• flu vaccines\\n• tetanus toxoid vaccine\\n• gamma globulin\\nCommon causes of contact dermatitis include the\\nfollowing:\\n• poison ivy, oak, and sumac\\n• nickel or nickel alloys\\n• latex\\nInsects and other arthropods whose bites or stings\\ntypically cause allergy include the following:\\n• bees, wasps, and hornets\\n• mosquitoes\\n• fleas\\n• scabies\\nSymptoms depend on the specific type of allergic\\nreaction. Allergic rhinitis is characterized by an itchy,\\nrunny nose, often with a scratchy or irritated throat due\\nto post-nasal drip. Inflammation of the thin membrane\\ncovering the eye (allergic conjunctivitis) causes redness,\\nirritation, and increased tearing in the eyes. Asthma caus-\\nes wheezing, coughing, and shortness of breath. Symp-\\ntoms of food allergies depend on the tissues most sensi-\\ntive to the allergen and whether the allergen spread sys-\\ntemically by the circulatory system. Gastrointestinal\\nsymptoms may include swelling and tingling in the lips,\\ntongue, palate or throat; nausea; cramping; diarrhea; and\\ngas. Contact dermatitis is marked by reddened, itchy,\\nweepy skin blisters, and an eczema that is slow to heal. It\\nsometimes has a characteritic man-made pattern, such as\\na glove allergy with clear demarkation on the hands,\\nwrist, and arms where the gloves are worn, or on the ear-\\nlobes by wearing earrings.\\nWhole body or systemic reactions may occur from\\nany type of allergen, but are more common following\\ningestion or injection of an allergen. Skin reactions\\ninclude the raised, reddened, and itchy patches called\\nhives that characteristically blanch with pressure and\\nresolve within twenty-four hours. A deeper and more\\nextensive skin reaction, involving more extensive fluid\\ncollection and pain, is called angioedema. This usually\\noccurs on the extremities, fingers, toes, and parts of the\\nhead,neck,and face. Anaphylaxis is marked by airway\\nconstriction, blood pressure drop, widespread tissue\\nswelling, heart rhythm abnormalities, and in some cases,\\nloss of consciousness. Other syptoms may include,dizzi-\\nness, weakness, seizures, coughing,flushing, or cramp-\\ning. The symptoms may begin within five minutes after\\nexposure to the allergan up to one hour or more later.\\nMast cells in the tissues and basophils in the blood\\nrelease mediators that give rise to the clinical symptoms\\nof this IgE-mediated hypersensitivity reaction. Common-\\nly, this is associated with allergies to medications, foods,\\nand insect venoms. In some individuals, anaphylaxis can\\noccur with exercise , plasma exchange, hemodialysis,\\nreaction to insulin, radocontrast media used in certain\\nGALE ENCYCLOPEDIA OF MEDICINE 2116\\nAllergies\\nGEM - 0001 to 0432 - A  10/22/03 1:42 PM  Page 116')]\n"
     ]
    }
   ],
   "source": [
    "#query = \"What are Allergies\"\n",
    "#result =vectorstore.similarity_search(query=query,k=3)\n",
    "#print(result)"
   ]
  },
  {
   "cell_type": "code",
   "execution_count": 10,
   "metadata": {},
   "outputs": [],
   "source": [
    "prompt_template=\"\"\"\n",
    "Use the following pieces of information to answer the user's question.\n",
    "If you don't know the answer, just say that you don't know, don't try to make up an answer.\n",
    "\n",
    "Context: {context}\n",
    "Question: {question}\n",
    "\n",
    "Only return the helpful answer below and nothing else.\n",
    "Helpful answer:\n",
    "\"\"\""
   ]
  },
  {
   "cell_type": "code",
   "execution_count": 11,
   "metadata": {},
   "outputs": [],
   "source": [
    "PROMPT = PromptTemplate(template=prompt_template,input_variables=['context','question'])\n",
    "chain_type_kwargs = {'prompt':PROMPT}"
   ]
  },
  {
   "cell_type": "code",
   "execution_count": 12,
   "metadata": {},
   "outputs": [],
   "source": [
    "qa = RetrievalQA.from_chain_type(\n",
    "    llm=llm,\n",
    "    chain_type=\"stuff\",\n",
    "    retriever=vectorstore.as_retriever(search_kwargs={'k':2}),\n",
    "    return_source_documents=True,\n",
    "    chain_type_kwargs=chain_type_kwargs\n",
    ")"
   ]
  },
  {
   "cell_type": "code",
   "execution_count": null,
   "metadata": {},
   "outputs": [],
   "source": [
    "while True:\n",
    "    user_input=input(f\"Input Prompt:\")\n",
    "    result=qa({\"query\": user_input})\n",
    "    print(\"Response : \", result[\"result\"])"
   ]
  }
 ],
 "metadata": {
  "kernelspec": {
   "display_name": "mbot",
   "language": "python",
   "name": "python3"
  },
  "language_info": {
   "codemirror_mode": {
    "name": "ipython",
    "version": 3
   },
   "file_extension": ".py",
   "mimetype": "text/x-python",
   "name": "python",
   "nbconvert_exporter": "python",
   "pygments_lexer": "ipython3",
   "version": "3.12.7"
  }
 },
 "nbformat": 4,
 "nbformat_minor": 2
}
